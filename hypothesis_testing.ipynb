{
 "cells": [
  {
   "cell_type": "code",
   "execution_count": 43,
   "id": "79dbdc49",
   "metadata": {},
   "outputs": [],
   "source": [
    "import matplotlib.pyplot as plt\n",
    "import pandas as pd\n",
    "import numpy as np\n",
    "import scipy.stats as stats\n",
    "from pydataset import data"
   ]
  },
  {
   "cell_type": "markdown",
   "id": "7e6c3171",
   "metadata": {},
   "source": [
    "### Answer with the type of test you would use (assume normal distribution):\n",
    "- Is there a difference in grades of students on the second floor compared to grades of all students?\n",
    "- Are adults who drink milk taller than adults who dont drink milk?\n",
    "- Is the the price of gas higher in texas or in new mexico?\n",
    "- Are there differences in stress levels between students who take data science vs students who take web development vs students who take cloud academy?\n"
   ]
  },
  {
   "cell_type": "markdown",
   "id": "c7ea8cfd",
   "metadata": {},
   "source": [
    "> #### Is there a difference in grades of students on the second floor compared to grades of all students?"
   ]
  },
  {
   "cell_type": "markdown",
   "id": "37540450",
   "metadata": {},
   "source": [
    "Steps: \n",
    "- Create Hypothesis\n",
    "- Look for normalization (assumed normal)\n",
    "- Determine sample\n",
    "- Determine tails/directionality\n",
    "\n",
    "##### H$_0$\n",
    "- students grades on the secons floor == all student grades\n",
    "\n",
    "##### H$_a$\n",
    "- students grades on the second floor != all student grades\n",
    "\n",
    "##### Sample:\n",
    "- 1 sample \n",
    "\n",
    "##### Tails/Directionality\n",
    "- two tails, no directionality, only eqaulity or difference\n",
    "    \n",
    " Answer: I would se stats.ttest_1samp"
   ]
  },
  {
   "cell_type": "markdown",
   "id": "3befa2c3",
   "metadata": {},
   "source": [
    "> #### Are adults who drink milk taller than adults who dont drink milk?"
   ]
  },
  {
   "cell_type": "markdown",
   "id": "536e2daa",
   "metadata": {},
   "source": [
    "Steps:\n",
    "- Create hypothesis\n",
    "- Look for normalizaiton (assumed normal)\n",
    "- Determine number of samples\n",
    "- Determine tails/directionality"
   ]
  },
  {
   "cell_type": "markdown",
   "id": "d20e8f61",
   "metadata": {},
   "source": [
    "##### H$_0$\n",
    "- adults who drink milk height <= adults who DON'T drink milk\n",
    "\n",
    "##### H$_a$\n",
    "- adults who drink milk height > adults who DON'T drink milk\n",
    "\n",
    "##### Sample\n",
    "- 2 samples: adults who drink milk, and adults who dont drink milk are both samples of a larger population of ___\n",
    "\n",
    "##### Tails/Directionaltiy\n",
    "- 1 tail: We are looking for directionality, we want to test the null hypothesis to see if the adults who don't drink mile are equal height or greater height than adults who drink milk\n",
    "\n",
    "##### Test:\n",
    "- I think a stats.ttest_ind would be the correct test()\n",
    "- this test would first need to determin the variance of the two variables\n",
    "- In the test, I would be sure to make sure the arguements are int eh correct order with the one being tested as larger first\n",
    "- If the p_value/2 is less than alpha then there is confidence in the result, we divide the p_vslue by two becasue we want to test for the directionailty"
   ]
  },
  {
   "cell_type": "markdown",
   "id": "cba747c3",
   "metadata": {},
   "source": [
    "> #### Is the the price of gas higher in texas or in new mexico?"
   ]
  },
  {
   "cell_type": "markdown",
   "id": "63fe9327",
   "metadata": {},
   "source": [
    "Steps:\n",
    "- Create Hypothesis\n",
    "- Look for normality(assumed normal)\n",
    "- Detemine number of samples\n",
    "- Determine tails/directionality"
   ]
  },
  {
   "cell_type": "markdown",
   "id": "e17fad32",
   "metadata": {},
   "source": [
    "##### H$_0$\n",
    "- tx gas > nm gas\n",
    "\n",
    "##### H$_a$\n",
    "- tx gas <= nm gas\n",
    "\n",
    "##### Sample\n",
    "- 2 samples, the samples are avg gas prices from two different states - the population may be gas prices int he country\n",
    "\n",
    "##### Tails/Directionality\n",
    "- 1 tail, it is directional. We want to know which is higher\n",
    "\n",
    "##### Test:\n",
    "- I would test for covariance with the levene first\n",
    "- Test stats.ttest_ind(tx_gas, nm_gas, equal_var=True)\n",
    "    - (p_val/2) < alpha and t.test > 0 then we cannot reject the null \n",
    "    - (p_val/2) < alpha and t.test =< 0 then we can reject the null"
   ]
  },
  {
   "cell_type": "markdown",
   "id": "067fb0a9",
   "metadata": {},
   "source": [
    "> #### Are there differences in stress levels between students who take data science vs students who take web development vs students who take cloud academy?"
   ]
  },
  {
   "cell_type": "markdown",
   "id": "b224080d",
   "metadata": {},
   "source": [
    "Step:\n",
    "- Hypotheses\n",
    "- Normality? (assume normal)\n",
    "- Determine Sample\n",
    "- Determine Tail\n",
    "- Determine Tests"
   ]
  },
  {
   "cell_type": "markdown",
   "id": "3ec96810",
   "metadata": {},
   "source": [
    "##### H$_0$\n",
    "- stress levels\n",
    "    - ds == wd\n",
    "    - ds == ca\n",
    "    - wd == ca\n",
    "\n",
    "##### H$_a$\n",
    "- Stress levels:\n",
    "    - ds != wd\n",
    "    - ds != ca\n",
    "    - wd != ca\n",
    "\n",
    "##### Sample\n",
    "- Each one has 2 samples so we will look for independence/exclusivity\n",
    "\n",
    "##### Tails/Directionality\n",
    "- 2 tails - no directionality, looking for equality\n",
    "\n",
    "##### Test\n",
    "- Because 2 samples, check covariance\n",
    "- If independent, stats.ttest_ind(arg1, arg1, equal_var=?) \n",
    "    - position of args do not matter \n",
    "- p < alpha then reject null\n",
    "- p > alpha then cannot reject null\n",
    "\n"
   ]
  },
  {
   "cell_type": "markdown",
   "id": "907c6a08",
   "metadata": {},
   "source": [
    "### Ace Realty wants to determine whether the average time it takes to sell homes is different for its two offices. A sample of 40 sales from office #1 revealed a mean of 90 days and a standard deviation of 15 days. A sample of 50 sales from office #2 revealed a mean of 100 days and a standard deviation of 20 days. Use a .05 level of significance."
   ]
  },
  {
   "cell_type": "markdown",
   "id": "0bfd812b",
   "metadata": {},
   "source": [
    "Steps\n",
    "- Hypothesis\n",
    "- Look for normailty\n",
    "- Determine samples\n",
    "- Detrmine tails"
   ]
  },
  {
   "cell_type": "markdown",
   "id": "973712f7",
   "metadata": {},
   "source": [
    "#### Hypothesis \n",
    ">##### H$_0$\n",
    ">- office 1 home sell time == office 2 home sell time\n",
    "\n",
    ">##### H$_a$\n",
    ">- office 1 home sell time != office 2 home sell time"
   ]
  },
  {
   "cell_type": "markdown",
   "id": "c2a84f72",
   "metadata": {},
   "source": [
    "#### Normalized?"
   ]
  },
  {
   "cell_type": "code",
   "execution_count": 19,
   "id": "37b60753",
   "metadata": {},
   "outputs": [],
   "source": [
    "# Office 1\n",
    "μ_one = 90 # days\n",
    "σ_one = 12\n",
    "\n",
    "office_one_dist = stats.norm(μ_one, σ_one)"
   ]
  },
  {
   "cell_type": "code",
   "execution_count": 26,
   "id": "e5f41ac9",
   "metadata": {},
   "outputs": [
    {
     "data": {
      "image/png": "[encoded data removed]",
      "text/plain": [
       "<Figure size 640x480 with 1 Axes>"
      ]
     },
     "metadata": {},
     "output_type": "display_data"
    }
   ],
   "source": [
    "# plotting office 1\n",
    "x = np.arange(30, 150)\n",
    "y = [office_one_dist.pdf(i) for i in x]\n",
    "\n",
    "plt.plot(x, y)\n",
    "plt.title('Office 1 Avg Days to Sell Dist')\n",
    "plt.xlabel('Days')\n",
    "plt.show;"
   ]
  },
  {
   "cell_type": "code",
   "execution_count": 28,
   "id": "9d0f6ccb",
   "metadata": {},
   "outputs": [],
   "source": [
    "# Office 2\n",
    "μ_two = 100 # days\n",
    "σ_two = 20\n",
    "\n",
    "office_two_dist = stats.norm(μ_two, σ_two)"
   ]
  },
  {
   "cell_type": "code",
   "execution_count": 30,
   "id": "93f11ad0",
   "metadata": {},
   "outputs": [
    {
     "data": {
      "image/png": "[encoded data removed]",
      "text/plain": [
       "<Figure size 640x480 with 1 Axes>"
      ]
     },
     "metadata": {},
     "output_type": "display_data"
    }
   ],
   "source": [
    "# plotting\n",
    "x = np.arange(10, 200)\n",
    "y = [office_two_dist.pdf(i) for i in x]\n",
    "\n",
    "plt.plot(x, y)\n",
    "plt.title('Office 2 Avg Days to Sell Dist')\n",
    "plt.xlabel('Days')\n",
    "plt.show;"
   ]
  },
  {
   "cell_type": "code",
   "execution_count": 31,
   "id": "79afd759",
   "metadata": {},
   "outputs": [],
   "source": [
    "# both are normal, we may continue with the ttest without making adjustments"
   ]
  },
  {
   "cell_type": "markdown",
   "id": "143c6f19",
   "metadata": {},
   "source": [
    "#### Sample\n",
    "- There are 2 samples, with two samples we need to check for exclusivity\n",
    "    - I am going to assumed exclusivity because of we havent learned how to determine exclusivity yet\n",
    "    - ttest_ind\n",
    "- But, I believe we must test the covariance on these two to see if they are not equal"
   ]
  },
  {
   "cell_type": "code",
   "execution_count": null,
   "id": "1e65817a",
   "metadata": {},
   "outputs": [],
   "source": [
    "# Null is that the covariance is the same\n",
    "# Alt is that the covariance is different"
   ]
  },
  {
   "cell_type": "markdown",
   "id": "e47fad65",
   "metadata": {},
   "source": [
    "#### Tails/Directionality\n",
    "- There is not directionality becasue we are looking for difference and equality, therefore when testing for the p-value, we only need to have it be less than alpha"
   ]
  },
  {
   "cell_type": "code",
   "execution_count": 34,
   "id": "b4e0496b",
   "metadata": {},
   "outputs": [],
   "source": [
    "# set α\n",
    "α = 0.05\n",
    "\n",
    "# Begin the ttest\n",
    "t_stats, p_val = stats.ttest_ind_from_stats(μ_one, σ_two, 40, μ_two, σ_two, 50)"
   ]
  },
  {
   "cell_type": "code",
   "execution_count": 42,
   "id": "d4636491",
   "metadata": {},
   "outputs": [
    {
     "data": {
      "text/plain": [
       "(True, -2.3570226039551585)"
      ]
     },
     "execution_count": 42,
     "metadata": {},
     "output_type": "execute_result"
    }
   ],
   "source": [
    "# testing the p_val\n",
    "p_val < α, t_stats"
   ]
  },
  {
   "cell_type": "markdown",
   "id": "7ff4b39b",
   "metadata": {},
   "source": [
    "We reject the null hypothesis!"
   ]
  },
  {
   "cell_type": "markdown",
   "id": "73b34ad3",
   "metadata": {},
   "source": [
    "## Load the mpg dataset and use it to answer the following questions:\n",
    "- Is there a difference in fuel-efficiency in cars from 2008 vs 1999?\n",
    "- Are compact cars more fuel-efficient than the average car?\n",
    "- Do manual cars get better gas mileage than automatic cars?"
   ]
  },
  {
   "cell_type": "code",
   "execution_count": 92,
   "id": "78e6ddab",
   "metadata": {},
   "outputs": [],
   "source": [
    "# loading mpg into 'mpg'\n",
    "mpg = data('mpg')"
   ]
  },
  {
   "cell_type": "code",
   "execution_count": 93,
   "id": "7024e946",
   "metadata": {},
   "outputs": [],
   "source": [
    "# St alpha\n",
    "α = 0.05"
   ]
  },
  {
   "cell_type": "markdown",
   "id": "b0a96161",
   "metadata": {},
   "source": [
    "> ### Is there a difference in fuel-efficiency in cars from 2008 vs 1999?"
   ]
  },
  {
   "cell_type": "markdown",
   "id": "91d8ceaf",
   "metadata": {},
   "source": [
    "#### Hypothesis:\n",
    "##### H$_0$\n",
    "    2008 fuel efficiency == 1999 fuel efficiency\n",
    "   \n",
    "##### H$_a$\n",
    "    2008 fuel efficiency != 1999 fuel efficiency"
   ]
  },
  {
   "cell_type": "code",
   "execution_count": 49,
   "id": "d9e2fea8",
   "metadata": {},
   "outputs": [
    {
     "data": {
      "text/html": [
       "<div>\n",
       "<style scoped>\n",
       "    .dataframe tbody tr th:only-of-type {\n",
       "        vertical-align: middle;\n",
       "    }\n",
       "\n",
       "    .dataframe tbody tr th {\n",
       "        vertical-align: top;\n",
       "    }\n",
       "\n",
       "    .dataframe thead th {\n",
       "        text-align: right;\n",
       "    }\n",
       "</style>\n",
       "<table border=\"1\" class=\"dataframe\">\n",
       "  <thead>\n",
       "    <tr style=\"text-align: right;\">\n",
       "      <th></th>\n",
       "      <th>manufacturer</th>\n",
       "      <th>model</th>\n",
       "      <th>displ</th>\n",
       "      <th>year</th>\n",
       "      <th>cyl</th>\n",
       "      <th>trans</th>\n",
       "      <th>drv</th>\n",
       "      <th>cty</th>\n",
       "      <th>hwy</th>\n",
       "      <th>fl</th>\n",
       "      <th>class</th>\n",
       "    </tr>\n",
       "  </thead>\n",
       "  <tbody>\n",
       "    <tr>\n",
       "      <th>1</th>\n",
       "      <td>audi</td>\n",
       "      <td>a4</td>\n",
       "      <td>1.8</td>\n",
       "      <td>1999</td>\n",
       "      <td>4</td>\n",
       "      <td>auto(l5)</td>\n",
       "      <td>f</td>\n",
       "      <td>18</td>\n",
       "      <td>29</td>\n",
       "      <td>p</td>\n",
       "      <td>compact</td>\n",
       "    </tr>\n",
       "    <tr>\n",
       "      <th>2</th>\n",
       "      <td>audi</td>\n",
       "      <td>a4</td>\n",
       "      <td>1.8</td>\n",
       "      <td>1999</td>\n",
       "      <td>4</td>\n",
       "      <td>manual(m5)</td>\n",
       "      <td>f</td>\n",
       "      <td>21</td>\n",
       "      <td>29</td>\n",
       "      <td>p</td>\n",
       "      <td>compact</td>\n",
       "    </tr>\n",
       "    <tr>\n",
       "      <th>3</th>\n",
       "      <td>audi</td>\n",
       "      <td>a4</td>\n",
       "      <td>2.0</td>\n",
       "      <td>2008</td>\n",
       "      <td>4</td>\n",
       "      <td>manual(m6)</td>\n",
       "      <td>f</td>\n",
       "      <td>20</td>\n",
       "      <td>31</td>\n",
       "      <td>p</td>\n",
       "      <td>compact</td>\n",
       "    </tr>\n",
       "    <tr>\n",
       "      <th>4</th>\n",
       "      <td>audi</td>\n",
       "      <td>a4</td>\n",
       "      <td>2.0</td>\n",
       "      <td>2008</td>\n",
       "      <td>4</td>\n",
       "      <td>auto(av)</td>\n",
       "      <td>f</td>\n",
       "      <td>21</td>\n",
       "      <td>30</td>\n",
       "      <td>p</td>\n",
       "      <td>compact</td>\n",
       "    </tr>\n",
       "    <tr>\n",
       "      <th>5</th>\n",
       "      <td>audi</td>\n",
       "      <td>a4</td>\n",
       "      <td>2.8</td>\n",
       "      <td>1999</td>\n",
       "      <td>6</td>\n",
       "      <td>auto(l5)</td>\n",
       "      <td>f</td>\n",
       "      <td>16</td>\n",
       "      <td>26</td>\n",
       "      <td>p</td>\n",
       "      <td>compact</td>\n",
       "    </tr>\n",
       "  </tbody>\n",
       "</table>\n",
       "</div>"
      ],
      "text/plain": [
       "  manufacturer model  displ  year  cyl       trans drv  cty  hwy fl    class\n",
       "1         audi    a4    1.8  1999    4    auto(l5)   f   18   29  p  compact\n",
       "2         audi    a4    1.8  1999    4  manual(m5)   f   21   29  p  compact\n",
       "3         audi    a4    2.0  2008    4  manual(m6)   f   20   31  p  compact\n",
       "4         audi    a4    2.0  2008    4    auto(av)   f   21   30  p  compact\n",
       "5         audi    a4    2.8  1999    6    auto(l5)   f   16   26  p  compact"
      ]
     },
     "execution_count": 49,
     "metadata": {},
     "output_type": "execute_result"
    }
   ],
   "source": [
    "# check data\n",
    "mpg.head()"
   ]
  },
  {
   "cell_type": "code",
   "execution_count": 108,
   "id": "e71429a7",
   "metadata": {},
   "outputs": [
    {
     "data": {
      "text/html": [
       "<div>\n",
       "<style scoped>\n",
       "    .dataframe tbody tr th:only-of-type {\n",
       "        vertical-align: middle;\n",
       "    }\n",
       "\n",
       "    .dataframe tbody tr th {\n",
       "        vertical-align: top;\n",
       "    }\n",
       "\n",
       "    .dataframe thead th {\n",
       "        text-align: right;\n",
       "    }\n",
       "</style>\n",
       "<table border=\"1\" class=\"dataframe\">\n",
       "  <thead>\n",
       "    <tr style=\"text-align: right;\">\n",
       "      <th></th>\n",
       "      <th>manufacturer</th>\n",
       "      <th>model</th>\n",
       "      <th>displ</th>\n",
       "      <th>year</th>\n",
       "      <th>cyl</th>\n",
       "      <th>trans</th>\n",
       "      <th>drv</th>\n",
       "      <th>cty</th>\n",
       "      <th>hwy</th>\n",
       "      <th>fl</th>\n",
       "      <th>class</th>\n",
       "      <th>fl_effcncy</th>\n",
       "    </tr>\n",
       "  </thead>\n",
       "  <tbody>\n",
       "    <tr>\n",
       "      <th>1</th>\n",
       "      <td>audi</td>\n",
       "      <td>a4</td>\n",
       "      <td>1.8</td>\n",
       "      <td>1999</td>\n",
       "      <td>4</td>\n",
       "      <td>auto(l5)</td>\n",
       "      <td>f</td>\n",
       "      <td>18</td>\n",
       "      <td>29</td>\n",
       "      <td>p</td>\n",
       "      <td>compact</td>\n",
       "      <td>23.5</td>\n",
       "    </tr>\n",
       "    <tr>\n",
       "      <th>2</th>\n",
       "      <td>audi</td>\n",
       "      <td>a4</td>\n",
       "      <td>1.8</td>\n",
       "      <td>1999</td>\n",
       "      <td>4</td>\n",
       "      <td>manual(m5)</td>\n",
       "      <td>f</td>\n",
       "      <td>21</td>\n",
       "      <td>29</td>\n",
       "      <td>p</td>\n",
       "      <td>compact</td>\n",
       "      <td>25.0</td>\n",
       "    </tr>\n",
       "    <tr>\n",
       "      <th>3</th>\n",
       "      <td>audi</td>\n",
       "      <td>a4</td>\n",
       "      <td>2.0</td>\n",
       "      <td>2008</td>\n",
       "      <td>4</td>\n",
       "      <td>manual(m6)</td>\n",
       "      <td>f</td>\n",
       "      <td>20</td>\n",
       "      <td>31</td>\n",
       "      <td>p</td>\n",
       "      <td>compact</td>\n",
       "      <td>25.5</td>\n",
       "    </tr>\n",
       "    <tr>\n",
       "      <th>4</th>\n",
       "      <td>audi</td>\n",
       "      <td>a4</td>\n",
       "      <td>2.0</td>\n",
       "      <td>2008</td>\n",
       "      <td>4</td>\n",
       "      <td>auto(av)</td>\n",
       "      <td>f</td>\n",
       "      <td>21</td>\n",
       "      <td>30</td>\n",
       "      <td>p</td>\n",
       "      <td>compact</td>\n",
       "      <td>25.5</td>\n",
       "    </tr>\n",
       "    <tr>\n",
       "      <th>5</th>\n",
       "      <td>audi</td>\n",
       "      <td>a4</td>\n",
       "      <td>2.8</td>\n",
       "      <td>1999</td>\n",
       "      <td>6</td>\n",
       "      <td>auto(l5)</td>\n",
       "      <td>f</td>\n",
       "      <td>16</td>\n",
       "      <td>26</td>\n",
       "      <td>p</td>\n",
       "      <td>compact</td>\n",
       "      <td>21.0</td>\n",
       "    </tr>\n",
       "  </tbody>\n",
       "</table>\n",
       "</div>"
      ],
      "text/plain": [
       "  manufacturer model  displ  year  cyl       trans drv  cty  hwy fl    class  \\\n",
       "1         audi    a4    1.8  1999    4    auto(l5)   f   18   29  p  compact   \n",
       "2         audi    a4    1.8  1999    4  manual(m5)   f   21   29  p  compact   \n",
       "3         audi    a4    2.0  2008    4  manual(m6)   f   20   31  p  compact   \n",
       "4         audi    a4    2.0  2008    4    auto(av)   f   21   30  p  compact   \n",
       "5         audi    a4    2.8  1999    6    auto(l5)   f   16   26  p  compact   \n",
       "\n",
       "   fl_effcncy  \n",
       "1        23.5  \n",
       "2        25.0  \n",
       "3        25.5  \n",
       "4        25.5  \n",
       "5        21.0  "
      ]
     },
     "execution_count": 108,
     "metadata": {},
     "output_type": "execute_result"
    }
   ],
   "source": [
    "# There are two mileages, must take the averag of bothe and create a new columne with the average\n",
    "mpg['fl_effcncy'] = mpg[['cty','hwy']].mean(axis=1)\n",
    "mpg.head()"
   ]
  },
  {
   "cell_type": "code",
   "execution_count": 80,
   "id": "6709005c",
   "metadata": {},
   "outputs": [],
   "source": [
    "# Isolating each 2008 cars and 1999 cars and placing into individual variables\n",
    "mpg_ninetynine = mpg[mpg.year == 1999].fl_effcncy\n",
    "# mpg_ninetynine"
   ]
  },
  {
   "cell_type": "code",
   "execution_count": 79,
   "id": "3f0135ef",
   "metadata": {},
   "outputs": [],
   "source": [
    "mpg_oeight = mpg[mpg.year == 2008].fl_effcncy\n",
    "# mpg_oeight"
   ]
  },
  {
   "cell_type": "markdown",
   "id": "4c1d3da5",
   "metadata": {},
   "source": [
    "#### Normalized?"
   ]
  },
  {
   "cell_type": "markdown",
   "id": "9ef59f6b",
   "metadata": {},
   "source": [
    "creating charts to check for normalization starting with 1999 cars"
   ]
  },
  {
   "cell_type": "markdown",
   "id": "f0928e4f",
   "metadata": {},
   "source": [
    "setting mu and sigma\n",
    "μ_ninetynine, σ_ninetynine = mpg_ninetynine.mean(), mpg_ninetynine.std()\n",
    "μ_ninetynine, σ_ninetynine"
   ]
  },
  {
   "cell_type": "markdown",
   "id": "d88408d6",
   "metadata": {},
   "source": [
    "creating the distributions\n",
    "mpg_ninetynine_dist = stats.norm(μ_ninetynine, σ_ninetynine)"
   ]
  },
  {
   "cell_type": "markdown",
   "id": "c91f5c40",
   "metadata": {},
   "source": [
    "creating graph\n",
    "x = np.arange(1, 40)\n",
    "y = [mpg_ninetynine_dist/pdf(i) for i in x]\n",
    "\n",
    "plt.plot(x, y)\n",
    "plt.title('Fuel Efficiency of Cars From 1999 Dist')\n",
    "plt.xlabel('MPG')\n",
    "plt.show()"
   ]
  },
  {
   "cell_type": "code",
   "execution_count": null,
   "id": "359985ad",
   "metadata": {},
   "outputs": [],
   "source": []
  },
  {
   "cell_type": "code",
   "execution_count": 87,
   "id": "0bfd5f75",
   "metadata": {},
   "outputs": [
    {
     "data": {
      "text/plain": [
       "(array([32., 13., 12., 38., 12.,  5.,  2.,  0.,  1.,  2.]),\n",
       " array([13.  , 15.65, 18.3 , 20.95, 23.6 , 26.25, 28.9 , 31.55, 34.2 ,\n",
       "        36.85, 39.5 ]),\n",
       " <BarContainer object of 10 artists>)"
      ]
     },
     "execution_count": 87,
     "metadata": {},
     "output_type": "execute_result"
    },
    {
     "data": {
      "image/png": "[encoded data removed]",
      "text/plain": [
       "<Figure size 640x480 with 1 Axes>"
      ]
     },
     "metadata": {},
     "output_type": "display_data"
    }
   ],
   "source": [
    "plt.hist(mpg_ninetynine)"
   ]
  },
  {
   "cell_type": "code",
   "execution_count": 90,
   "id": "8de4607a",
   "metadata": {},
   "outputs": [
    {
     "data": {
      "text/plain": [
       "(array([ 7.,  5., 32.,  4., 19., 22., 15.,  8.,  2.,  3.]),\n",
       " array([10.5, 12.7, 14.9, 17.1, 19.3, 21.5, 23.7, 25.9, 28.1, 30.3, 32.5]),\n",
       " <BarContainer object of 10 artists>)"
      ]
     },
     "execution_count": 90,
     "metadata": {},
     "output_type": "execute_result"
    },
    {
     "data": {
      "image/png": "[encoded data removed]",
      "text/plain": [
       "<Figure size 640x480 with 1 Axes>"
      ]
     },
     "metadata": {},
     "output_type": "display_data"
    }
   ],
   "source": [
    "plt.hist(mpg_oeight)"
   ]
  },
  {
   "cell_type": "markdown",
   "id": "eb1f5ddb",
   "metadata": {},
   "source": [
    "# They dont look normal to meeeee"
   ]
  },
  {
   "cell_type": "markdown",
   "id": "d8670f53",
   "metadata": {},
   "source": [
    "#### Sample\n",
    "- There are two samples, are they independent? not sure\n",
    "    - but lets check for the variance within to determine if they have equal variance\n"
   ]
  },
  {
   "cell_type": "code",
   "execution_count": 94,
   "id": "7fab3833",
   "metadata": {},
   "outputs": [
    {
     "data": {
      "text/plain": [
       "False"
      ]
     },
     "execution_count": 94,
     "metadata": {},
     "output_type": "execute_result"
    }
   ],
   "source": [
    "# Sub-Null: the two variables have equal variance\n",
    "# Sub-Alt: the two variables have unequal variance\n",
    "\n",
    "stats.levene(mpg_ninetynine, mpg_oeight)[1] < α\n",
    "\n",
    "### They we cannot reject the null hypothesis, so we will assume that they have the same variance"
   ]
  },
  {
   "cell_type": "markdown",
   "id": "6f040193",
   "metadata": {},
   "source": [
    "#### Tails/directionality\n",
    "- 2 tails, becasue we are not looking for directionality"
   ]
  },
  {
   "cell_type": "code",
   "execution_count": 96,
   "id": "d9430cbd",
   "metadata": {},
   "outputs": [],
   "source": [
    "# Finding the t statistic and pvalue\n",
    "t_stats, p_val = stats.ttest_ind(mpg_ninetynine, mpg_oeight, equal_var=True)"
   ]
  },
  {
   "cell_type": "code",
   "execution_count": 99,
   "id": "fc549bc3",
   "metadata": {},
   "outputs": [
    {
     "data": {
      "text/plain": [
       "False"
      ]
     },
     "execution_count": 99,
     "metadata": {},
     "output_type": "execute_result"
    }
   ],
   "source": [
    "# checking for confidence\n",
    "p_val < α\n",
    "\n",
    "# we cannot confidently reject the null hypothesis"
   ]
  },
  {
   "cell_type": "markdown",
   "id": "f4ab36fc",
   "metadata": {},
   "source": [
    "> ### Are compact cars more fuel-efficient than the average car?"
   ]
  },
  {
   "cell_type": "code",
   "execution_count": 117,
   "id": "f4fbd2da",
   "metadata": {},
   "outputs": [],
   "source": [
    "# create variable for compact car fuel\n",
    "compact_fuel = mpg[mpg['class'] == 'compact'].fl_effcncy\n",
    "# compact_fuel"
   ]
  },
  {
   "cell_type": "code",
   "execution_count": 116,
   "id": "b644457b",
   "metadata": {},
   "outputs": [
    {
     "data": {
      "text/plain": [
       "1      23.5\n",
       "2      25.0\n",
       "3      25.5\n",
       "4      25.5\n",
       "5      21.0\n",
       "       ... \n",
       "230    23.5\n",
       "231    25.0\n",
       "232    21.0\n",
       "233    22.0\n",
       "234    21.5\n",
       "Name: fl_effcncy, Length: 234, dtype: float64"
      ]
     },
     "execution_count": 116,
     "metadata": {},
     "output_type": "execute_result"
    }
   ],
   "source": [
    "# create a variable for all car fuel effeciency\n",
    "avg_car_fuel = mpg.fl_effcncy\n",
    "avg_car_fuel"
   ]
  },
  {
   "cell_type": "markdown",
   "id": "51f87ce6",
   "metadata": {},
   "source": [
    "#### Hypothesis:\n",
    "\n",
    "##### H$_0$\n",
    "    compact cars fuel efficiency <= avg car fuel efficiency\n",
    "\n",
    "##### H$_a$\n",
    "    compact car fuel efficiency > avg car fuel efficiency"
   ]
  },
  {
   "cell_type": "markdown",
   "id": "628a3bcc",
   "metadata": {},
   "source": [
    "####  Normal?"
   ]
  },
  {
   "cell_type": "code",
   "execution_count": 119,
   "id": "064be9e3",
   "metadata": {},
   "outputs": [
    {
     "data": {
      "image/png": "[encoded data removed]",
      "text/plain": [
       "<Figure size 640x480 with 1 Axes>"
      ]
     },
     "metadata": {},
     "output_type": "display_data"
    }
   ],
   "source": [
    "plt.hist(compact_fuel)\n",
    "plt.title('Compact Car Fuel Efficiency Dist')\n",
    "plt.show()\n",
    "\n",
    "# Appears to be right skewed"
   ]
  },
  {
   "cell_type": "code",
   "execution_count": 122,
   "id": "ed1fd9cc",
   "metadata": {},
   "outputs": [
    {
     "data": {
      "image/png": "[encoded data removed]",
      "text/plain": [
       "<Figure size 640x480 with 1 Axes>"
      ]
     },
     "metadata": {},
     "output_type": "display_data"
    }
   ],
   "source": [
    "plt.hist(avg_car)\n",
    "plt.title('Avg Car Fuel Efficiency Dist')\n",
    "plt.show()\n",
    "\n",
    "# relatively normal"
   ]
  },
  {
   "cell_type": "markdown",
   "id": "635d19f3",
   "metadata": {},
   "source": [
    "#### Determine Sample\n",
    "- 1 sample, this means we will use the stats.ttest_1samp to find our t stat and pvalue\n",
    "    - no need to look for variance comparison\n",
    "- with the one sample test we need to create a theoretical mean\n",
    "\n",
    "#### Determine Tails/Directionality\n",
    "- 1 tail, we are looking for directionality\n",
    "    - for the testing of the null, the avg car fuel efficiency will come first in the test"
   ]
  },
  {
   "cell_type": "code",
   "execution_count": 132,
   "id": "6f961f70",
   "metadata": {},
   "outputs": [],
   "source": [
    "# Create the theoretical mean\n",
    "μth = avg_car_fuel.mean()\n",
    "# Creating the test\n",
    "t_stat, p_val = stats.ttest_1samp(compact_fuel, μth)"
   ]
  },
  {
   "cell_type": "code",
   "execution_count": 137,
   "id": "7d6c770a",
   "metadata": {},
   "outputs": [
    {
     "data": {
      "text/plain": [
       "(True, True)"
      ]
     },
     "execution_count": 137,
     "metadata": {},
     "output_type": "execute_result"
    }
   ],
   "source": [
    "# testing the p_value and the t_stat\n",
    "(p_val / 2) < α, t_stats > 0"
   ]
  },
  {
   "cell_type": "code",
   "execution_count": 138,
   "id": "62d7a6eb",
   "metadata": {},
   "outputs": [],
   "source": [
    "# Both are true so we can reject the null hypothesis"
   ]
  },
  {
   "cell_type": "markdown",
   "id": "48861f55",
   "metadata": {},
   "source": [
    "> ### Do manual cars get better gas mileage than automatic cars?"
   ]
  },
  {
   "cell_type": "code",
   "execution_count": 145,
   "id": "4eaf81af",
   "metadata": {},
   "outputs": [],
   "source": [
    "# Setting the variable for the auto transmission \n",
    "auto_trans_mpg = mpg[mpg.trans.str.startswith('auto')].fl_effcncy"
   ]
  },
  {
   "cell_type": "code",
   "execution_count": 148,
   "id": "633d27b6",
   "metadata": {},
   "outputs": [],
   "source": [
    "# Variable for man trans mpg\n",
    "man_trans_mpg = mpg[mpg.trans.str.startswith('man')].fl_effcncy"
   ]
  },
  {
   "cell_type": "markdown",
   "id": "e1a8dd3a",
   "metadata": {},
   "source": [
    "#### Hypothesis\n",
    "\n",
    "##### H$_0$\n",
    "    man trans gas mileage <= auto trans gas mileage\n",
    "\n",
    "##### H$_a$\n",
    "    man tran gas mileage > autotrans gas mileage"
   ]
  },
  {
   "cell_type": "markdown",
   "id": "2a04d0e1",
   "metadata": {},
   "source": [
    "#### Normal? "
   ]
  },
  {
   "cell_type": "code",
   "execution_count": 150,
   "id": "86e1de28",
   "metadata": {},
   "outputs": [
    {
     "data": {
      "text/plain": [
       "(array([ 6., 35., 27., 20., 35., 18.,  9.,  4.,  2.,  1.]),\n",
       " array([10.5 , 12.95, 15.4 , 17.85, 20.3 , 22.75, 25.2 , 27.65, 30.1 ,\n",
       "        32.55, 35.  ]),\n",
       " <BarContainer object of 10 artists>)"
      ]
     },
     "execution_count": 150,
     "metadata": {},
     "output_type": "execute_result"
    },
    {
     "data": {
      "image/png": "[encoded data removed]",
      "text/plain": [
       "<Figure size 640x480 with 1 Axes>"
      ]
     },
     "metadata": {},
     "output_type": "display_data"
    }
   ],
   "source": [
    "plt.hist(auto_trans_mpg)"
   ]
  },
  {
   "cell_type": "code",
   "execution_count": 152,
   "id": "120e0194",
   "metadata": {},
   "outputs": [
    {
     "data": {
      "text/plain": [
       "(array([ 1., 10.,  8., 22., 10., 19.,  4.,  1.,  0.,  2.]),\n",
       " array([10.5, 13.4, 16.3, 19.2, 22.1, 25. , 27.9, 30.8, 33.7, 36.6, 39.5]),\n",
       " <BarContainer object of 10 artists>)"
      ]
     },
     "execution_count": 152,
     "metadata": {},
     "output_type": "execute_result"
    },
    {
     "data": {
      "image/png": "[encoded data removed]",
      "text/plain": [
       "<Figure size 640x480 with 1 Axes>"
      ]
     },
     "metadata": {},
     "output_type": "display_data"
    }
   ],
   "source": [
    "plt.hist(man_trans_mpg)"
   ]
  },
  {
   "cell_type": "markdown",
   "id": "dca29311",
   "metadata": {},
   "source": [
    "#### Detemine Sampling\n",
    "- 2 samples, will use ttest_ind()\n",
    "    - What about variiance? Lets see"
   ]
  },
  {
   "cell_type": "code",
   "execution_count": 154,
   "id": "59c31335",
   "metadata": {},
   "outputs": [
    {
     "data": {
      "text/plain": [
       "False"
      ]
     },
     "execution_count": 154,
     "metadata": {},
     "output_type": "execute_result"
    }
   ],
   "source": [
    "# SubNull: the varince is the same for both\n",
    "# SubAlt: the variance is different\n",
    "\n",
    "stats.levene(auto_trans_mpg, man_trans_mpg)[0] < α\n",
    "\n",
    "# we cannot reject the null, will assume the variance is the same"
   ]
  },
  {
   "cell_type": "markdown",
   "id": "cbf6a2b0",
   "metadata": {},
   "source": [
    "#### Determine Tails/Directionality\n",
    "- 1 tail becasue looking for greater than or equal to\n",
    "    - position arguments correctly\n",
    "    - pvalue / 2\n",
    "  "
   ]
  },
  {
   "cell_type": "code",
   "execution_count": 157,
   "id": "f962a474",
   "metadata": {},
   "outputs": [],
   "source": [
    "# Setup the test\n",
    "t_stats, p_val = stats.ttest_ind(auto_trans_mpg, man_trans_mpg, equal_var=True)"
   ]
  },
  {
   "cell_type": "code",
   "execution_count": 162,
   "id": "849a0b59",
   "metadata": {},
   "outputs": [
    {
     "data": {
      "text/plain": [
       "True"
      ]
     },
     "execution_count": 162,
     "metadata": {},
     "output_type": "execute_result"
    }
   ],
   "source": [
    "(p_val/2 < α) and t_stat > 0"
   ]
  },
  {
   "cell_type": "code",
   "execution_count": null,
   "id": "0cda8334",
   "metadata": {},
   "outputs": [],
   "source": []
  }
 ],
 "metadata": {
  "kernelspec": {
   "display_name": "Python 3 (ipykernel)",
   "language": "python",
   "name": "python3"
  },
  "language_info": {
   "codemirror_mode": {
    "name": "ipython",
    "version": 3
   },
   "file_extension": ".py",
   "mimetype": "text/x-python",
   "name": "python",
   "nbconvert_exporter": "python",
   "pygments_lexer": "ipython3",
   "version": "3.9.13"
  }
 },
 "nbformat": 4,
 "nbformat_minor": 5
}
