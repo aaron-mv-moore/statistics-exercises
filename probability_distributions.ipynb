{
 "cells": [
  {
   "cell_type": "code",
   "execution_count": 101,
   "id": "8d323630",
   "metadata": {},
   "outputs": [],
   "source": [
    "# import modules\n",
    "import pandas as pd\n",
    "import numpy as np\n",
    "import matplotlib.pyplot as plt\n",
    "from scipy import stats"
   ]
  },
  {
   "cell_type": "markdown",
   "id": "a3040e20",
   "metadata": {},
   "source": [
    "### A bank found that the average number of cars waiting during the noon hour at a drive-up window follows a Poisson distribution with a mean of 2 cars. Make a chart of this distribution and answer these questions concerning the probability of cars waiting at the drive-up window."
   ]
  },
  {
   "cell_type": "code",
   "execution_count": 100,
   "id": "ae478813",
   "metadata": {},
   "outputs": [],
   "source": [
    "# poisson uses lambda, lets set up\n",
    "λ = 2\n",
    "cars_drive_window = stats.poisson(λ)"
   ]
  },
  {
   "cell_type": "code",
   "execution_count": 110,
   "id": "a9ea9897",
   "metadata": {},
   "outputs": [
    {
     "data": {
      "image/png": "[encoded data removed]",
      "text/plain": [
       "<Figure size 640x480 with 1 Axes>"
      ]
     },
     "metadata": {},
     "output_type": "display_data"
    }
   ],
   "source": [
    "# making a chart\n",
    "x = np.arange(0,10)\n",
    "y = [cars_drive_window.pmf(i) for i in x]\n",
    "plt.bar(x,y, color ='silver', ec = 'black')\n",
    "plt.xlabel('Cars Events per Noon Hour')\n",
    "plt.ylabel('Probability of Car Event')\n",
    "plt.title('Poisson Distribution of Car Events')\n",
    "plt.show()"
   ]
  },
  {
   "cell_type": "markdown",
   "id": "aa4acdb9",
   "metadata": {},
   "source": [
    "> What is the probability that no cars drive up in the noon hour?"
   ]
  },
  {
   "cell_type": "code",
   "execution_count": 3,
   "id": "e332ee5f",
   "metadata": {},
   "outputs": [
    {
     "data": {
      "text/plain": [
       "0.1353352832366127"
      ]
     },
     "execution_count": 3,
     "metadata": {},
     "output_type": "execute_result"
    }
   ],
   "source": [
    "# take the probability mass function because cars are discrete and we want exactly 0\n",
    "cars_drive_window.pmf(0)"
   ]
  },
  {
   "cell_type": "markdown",
   "id": "35a49d60",
   "metadata": {},
   "source": [
    "> What is the probability that 3 or more cars come through the drive through?"
   ]
  },
  {
   "cell_type": "code",
   "execution_count": 7,
   "id": "972f43b2",
   "metadata": {},
   "outputs": [
    {
     "data": {
      "text/plain": [
       "0.32332358381693654"
      ]
     },
     "execution_count": 7,
     "metadata": {},
     "output_type": "execute_result"
    }
   ],
   "source": [
    "# usinf the survival function, which is non inclusive so used 2 to capture 3 or more\n",
    "cars_drive_window.sf(2)"
   ]
  },
  {
   "cell_type": "markdown",
   "id": "32f2c448",
   "metadata": {},
   "source": [
    ">How likely is it that the drive through gets at least 1 car?"
   ]
  },
  {
   "cell_type": "code",
   "execution_count": 8,
   "id": "e60909a6",
   "metadata": {},
   "outputs": [
    {
     "data": {
      "text/plain": [
       "0.8646647167633873"
      ]
     },
     "execution_count": 8,
     "metadata": {},
     "output_type": "execute_result"
    }
   ],
   "source": [
    "# one possible way\n",
    "1 - cars_drive_window.pmf(0)\n",
    "\n",
    "# another way using the survival function\n",
    "cars_drive_window.sf(0)"
   ]
  },
  {
   "cell_type": "markdown",
   "id": "10da679c",
   "metadata": {},
   "source": [
    "### Grades of State University graduates are normally distributed with a mean of 3.0 and a standard deviation of .3. Calculate the following:"
   ]
  },
  {
   "cell_type": "code",
   "execution_count": 60,
   "id": "eeb2b6ca",
   "metadata": {},
   "outputs": [],
   "source": [
    "# setup the mean, std, and variable with normal distirbution\n",
    "μ = 3.0\n",
    "σ = .3\n",
    "\n",
    "grades = stats.norm(μ, σ)"
   ]
  },
  {
   "cell_type": "markdown",
   "id": "a11c8f81",
   "metadata": {},
   "source": [
    ">What grade point average is required to be in the top 5% of the graduating class?"
   ]
  },
  {
   "cell_type": "code",
   "execution_count": 17,
   "id": "47415d31",
   "metadata": {},
   "outputs": [
    {
     "data": {
      "text/plain": [
       "3.5"
      ]
     },
     "execution_count": 17,
     "metadata": {},
     "output_type": "execute_result"
    }
   ],
   "source": [
    "# usinf the inverse suirvival function to use the probability of the top of somethingm\n",
    "round(grades.isf(.05), 1)"
   ]
  },
  {
   "cell_type": "markdown",
   "id": "df64c11c",
   "metadata": {},
   "source": [
    ">What GPA constitutes the bottom 15% of the class?"
   ]
  },
  {
   "cell_type": "code",
   "execution_count": 16,
   "id": "97dafc7d",
   "metadata": {},
   "outputs": [
    {
     "data": {
      "text/plain": [
       "2.7"
      ]
     },
     "execution_count": 16,
     "metadata": {},
     "output_type": "execute_result"
    }
   ],
   "source": [
    "# for the bottom, we will use a probabilty point fiunctoin\n",
    "round(grades.ppf(.15), 1)"
   ]
  },
  {
   "cell_type": "markdown",
   "id": "4c63f32b",
   "metadata": {},
   "source": [
    ">An eccentric alumnus left scholarship money for students in the third decile from the bottom of their class. Determine the range of the third decile. Would a student with a 2.8 grade point average qualify for this scholarship?"
   ]
  },
  {
   "cell_type": "code",
   "execution_count": 114,
   "id": "4a36a2a2",
   "metadata": {},
   "outputs": [
    {
     "data": {
      "text/plain": [
       "array([2.74751363, 2.84267985])"
      ]
     },
     "execution_count": 114,
     "metadata": {},
     "output_type": "execute_result"
    }
   ],
   "source": [
    "# I believe the third decile is from 21 % to %30 percent but I may be wrong\n",
    "# the first number is where the range begins the scond number is where the range ends\n",
    "grades.ppf(.2), grades.ppf(.3)\n",
    "\n",
    "# OR\n",
    "grades.ppf([.2, .3])\n",
    "\n",
    "# Yes a student with a 2.8 gpa would qualify"
   ]
  },
  {
   "cell_type": "markdown",
   "id": "1f72e157",
   "metadata": {},
   "source": [
    ">If I have a GPA of 3.5, what percentile am I in?"
   ]
  },
  {
   "cell_type": "code",
   "execution_count": 63,
   "id": "084c2c33",
   "metadata": {},
   "outputs": [
    {
     "data": {
      "text/plain": [
       "0.9522096477271853"
      ]
     },
     "execution_count": 63,
     "metadata": {},
     "output_type": "execute_result"
    }
   ],
   "source": [
    "# The cumulative distribution functoin is used to show who all is begind the perso\n",
    "# this shows that they are better than this percetnatge of students\n",
    "grades.cdf(3.5)"
   ]
  },
  {
   "cell_type": "code",
   "execution_count": 64,
   "id": "a391e54e",
   "metadata": {},
   "outputs": [
    {
     "data": {
      "text/plain": [
       "0.047790352272814696"
      ]
     },
     "execution_count": 64,
     "metadata": {},
     "output_type": "execute_result"
    }
   ],
   "source": [
    "# Subtracting the cdf from 1 will show what percentile the student is in\n",
    "1 - grades.cdf(3.5)"
   ]
  },
  {
   "cell_type": "code",
   "execution_count": 115,
   "id": "af7f01ca",
   "metadata": {},
   "outputs": [
    {
     "data": {
      "text/plain": [
       "0.0477903522728147"
      ]
     },
     "execution_count": 115,
     "metadata": {},
     "output_type": "execute_result"
    }
   ],
   "source": [
    "# the sf will show which top percent they are in, but I prefer the method above\n",
    "grades.sf(3.5)"
   ]
  },
  {
   "cell_type": "markdown",
   "id": "95cd6989",
   "metadata": {},
   "source": [
    "### A marketing website has an average click-through rate of 2%. One day they observe 4326 visitors and 97 click-throughs. How likely is it that this many people or more click through?"
   ]
  },
  {
   "cell_type": "code",
   "execution_count": 120,
   "id": "a6208e57",
   "metadata": {},
   "outputs": [],
   "source": [
    "# I believe this is a binomial distibution becasue we have specific probability \n",
    "# and we want to find the likely hood that this condition is true\n",
    "\n",
    "# there are this many visitors\n",
    "n = 4326\n",
    "# this is the proability of a click\n",
    "p = 0.02\n",
    "\n",
    "clicks = stats.binom(n, p)"
   ]
  },
  {
   "cell_type": "code",
   "execution_count": 121,
   "id": "8b370ed5",
   "metadata": {},
   "outputs": [
    {
     "data": {
      "text/plain": [
       "0.13975823631416448"
      ]
     },
     "execution_count": 121,
     "metadata": {},
     "output_type": "execute_result"
    }
   ],
   "source": [
    "# how likely is it that 97 people or more click through?\n",
    "clicks.sf(96)"
   ]
  },
  {
   "cell_type": "code",
   "execution_count": 37,
   "id": "37b26977",
   "metadata": {},
   "outputs": [],
   "source": [
    "# there is a possibility that this is a poisson but I will wait to see"
   ]
  },
  {
   "cell_type": "code",
   "execution_count": 71,
   "id": "d9a14388",
   "metadata": {},
   "outputs": [],
   "source": [
    "# jk, it says rate and poisson is about rate\n",
    "λ = 2\n",
    "\n",
    "clicks = stats.poisson(λ)"
   ]
  },
  {
   "cell_type": "code",
   "execution_count": 73,
   "id": "5853c0f1",
   "metadata": {},
   "outputs": [],
   "source": [
    "clicks_adjusted = stats.poisson((λ * 4326/100))"
   ]
  },
  {
   "cell_type": "code",
   "execution_count": 116,
   "id": "b9948fce",
   "metadata": {},
   "outputs": [
    {
     "data": {
      "text/plain": [
       "0.14211867659283192"
      ]
     },
     "execution_count": 116,
     "metadata": {},
     "output_type": "execute_result"
    }
   ],
   "source": [
    "clicks_adjusted.sf(96)"
   ]
  },
  {
   "cell_type": "code",
   "execution_count": 119,
   "id": "7fb0548b",
   "metadata": {},
   "outputs": [
    {
     "data": {
      "text/plain": [
       "0.14211867659283192"
      ]
     },
     "execution_count": 119,
     "metadata": {},
     "output_type": "execute_result"
    }
   ],
   "source": [
    "# there are this many visitors\n",
    "n = 4326\n",
    "# this is the proability of a click\n",
    "p = 0.02\n",
    "\n",
    "# The average for this window is\n",
    "λ =  n * p\n",
    "\n",
    "# put it in a variable\n",
    "clicks = stats.poisson(λ)\n",
    "\n",
    "clicks.sf(96)"
   ]
  },
  {
   "cell_type": "markdown",
   "id": "cc7f967f",
   "metadata": {},
   "source": [
    "### You are working on some statistics homework consisting of 100 questions where all of the answers are a probability rounded to the hundreths place. Looking to save time, you put down random probabilities as the answer to each question."
   ]
  },
  {
   "cell_type": "code",
   "execution_count": 78,
   "id": "ce992d8b",
   "metadata": {},
   "outputs": [],
   "source": [
    "# 100 questions\n",
    "# the possible answers are between .00 to 1.00 because probabilty only goes to 1 so this is the probabilty of success\n",
    "# the question below\n",
    "n = 60\n",
    "p = .01\n",
    "\n",
    "homework = stats.binom(n, p)"
   ]
  },
  {
   "cell_type": "markdown",
   "id": "cb438aa0",
   "metadata": {},
   "source": [
    "> What is the probability that at least one of your first 60 answers is correct?"
   ]
  },
  {
   "cell_type": "code",
   "execution_count": 79,
   "id": "28ff8652",
   "metadata": {},
   "outputs": [
    {
     "data": {
      "text/plain": [
       "0.01698082317804481"
      ]
     },
     "execution_count": 79,
     "metadata": {},
     "output_type": "execute_result"
    }
   ],
   "source": [
    "homework.cdf(1)"
   ]
  },
  {
   "cell_type": "markdown",
   "id": "11ea459f",
   "metadata": {},
   "source": [
    "### The codeup staff tends to get upset when the student break area is not cleaned up. Suppose that there's a 3% chance that any one student cleans the break area when they visit it, and, on any given day, about 90% of the 3 active cohorts of 22 students visit the break area. "
   ]
  },
  {
   "cell_type": "code",
   "execution_count": 123,
   "id": "7d81a586",
   "metadata": {},
   "outputs": [
    {
     "data": {
      "text/plain": [
       "59.0"
      ]
     },
     "execution_count": 123,
     "metadata": {},
     "output_type": "execute_result"
    }
   ],
   "source": [
    "# Students probability first\n",
    "# how many students\n",
    "n_students  = 3 * 22\n",
    "\n",
    "# how many students visit the breakroom on a given day\n",
    "p_visit_area = .9\n",
    "\n",
    "student_visit_area = stats.binom(n_students, p_visit_area)\n",
    "\n",
    "student_visit_area.isf(.60)"
   ]
  },
  {
   "cell_type": "code",
   "execution_count": 124,
   "id": "caf4150e",
   "metadata": {},
   "outputs": [],
   "source": [
    "# chance of clean\n",
    "p = .03\n",
    "# the trials is the studetn entering the clas\n",
    "n = 59\n",
    "# there is a .03 chance for each individual student\n",
    "cleaned_day = stats.binom(n, p)"
   ]
  },
  {
   "cell_type": "markdown",
   "id": "5f67f500",
   "metadata": {},
   "source": [
    ">How likely is it that the break area gets cleaned up each day?"
   ]
  },
  {
   "cell_type": "code",
   "execution_count": 92,
   "id": "72ca6e10",
   "metadata": {},
   "outputs": [
    {
     "data": {
      "text/plain": [
       "0.8342199288437352"
      ]
     },
     "execution_count": 92,
     "metadata": {},
     "output_type": "execute_result"
    }
   ],
   "source": [
    "# the probability that at least one student cleans the break room\n",
    "cleaned_day.sf(0)"
   ]
  },
  {
   "cell_type": "markdown",
   "id": "04ae1a7d",
   "metadata": {},
   "source": [
    ">How likely is it that it goes two days without getting cleaned up? All week?"
   ]
  },
  {
   "cell_type": "code",
   "execution_count": 125,
   "id": "c26cb539",
   "metadata": {},
   "outputs": [
    {
     "data": {
      "text/plain": [
       "0.027483031992576134"
      ]
     },
     "execution_count": 125,
     "metadata": {},
     "output_type": "execute_result"
    }
   ],
   "source": [
    "# the number or trials doubles, but the probability does not change\n",
    "cleaned_two_day = stats.binom(n * 2, p)\n",
    "cleaned_two_day.pmf(0)"
   ]
  },
  {
   "cell_type": "code",
   "execution_count": 126,
   "id": "555af64b",
   "metadata": {},
   "outputs": [
    {
     "data": {
      "text/plain": [
       "0.00012521651388091245"
      ]
     },
     "execution_count": 126,
     "metadata": {},
     "output_type": "execute_result"
    }
   ],
   "source": [
    "cleaned_five_day = stats.binom(n * 5, p)\n",
    "cleaned_five_day.pmf(0)"
   ]
  },
  {
   "cell_type": "markdown",
   "id": "6533b570",
   "metadata": {},
   "source": [
    "> WRONG"
   ]
  },
  {
   "cell_type": "code",
   "execution_count": 94,
   "id": "a6cb52d9",
   "metadata": {},
   "outputs": [
    {
     "data": {
      "text/plain": [
       "0.33156014231252906"
      ]
     },
     "execution_count": 94,
     "metadata": {},
     "output_type": "execute_result"
    }
   ],
   "source": [
    "## WRONG LOL\n",
    "# this is the likley hood of 2 days no cleaning\n",
    "## I think this is wrong\n",
    "cleaned_day.pmf(0) * 2"
   ]
  },
  {
   "cell_type": "code",
   "execution_count": 99,
   "id": "65170048",
   "metadata": {},
   "outputs": [
    {
     "data": {
      "text/plain": [
       "0.8289003557813226"
      ]
     },
     "execution_count": 99,
     "metadata": {},
     "output_type": "execute_result"
    }
   ],
   "source": [
    "# the likelihood that 5 days no cleaning\n",
    "cleaned.pmf(0) * 5"
   ]
  },
  {
   "cell_type": "code",
   "execution_count": 94,
   "id": "3bdbc825",
   "metadata": {},
   "outputs": [],
   "source": [
    "# make an not_cleaned variabel\n",
    "not_cleaned = stats.binom(n, (1-p))"
   ]
  },
  {
   "cell_type": "markdown",
   "id": "f4b25ee9",
   "metadata": {},
   "source": [
    "### You want to get lunch at La Panaderia, but notice that the line is usually very long at lunchtime. After several weeks of careful observation, you notice that the average number of people in line when your lunch break starts is normally distributed with a mean of 15 and standard deviation of 3. If it takes 2 minutes for each person to order, and 10 minutes from ordering to getting your food, what is the likelihood that you have at least 15 minutes left to eat your food before you have to go back to class? Assume you have one hour for lunch, and ignore travel time to and from La Panaderia."
   ]
  },
  {
   "cell_type": "code",
   "execution_count": 127,
   "id": "b5d8044f",
   "metadata": {},
   "outputs": [],
   "source": [
    "# normal distrubition setup\n",
    "# mean and std in units of people\n",
    "μ = 15\n",
    "σ = 3\n",
    "\n",
    "people_in_line = stats.norm(μ, σ)\n"
   ]
  },
  {
   "cell_type": "code",
   "execution_count": 128,
   "id": "ac43fc4a",
   "metadata": {},
   "outputs": [],
   "source": [
    "# adjusting the mean andf std to acocunt for the time each person needs to order and the extra time needed for you \n",
    "\n",
    "time_for_food = stats.norm((μ * 2)+12, σ * 2)"
   ]
  },
  {
   "cell_type": "code",
   "execution_count": 129,
   "id": "011d97db",
   "metadata": {},
   "outputs": [
    {
     "data": {
      "text/plain": [
       "0.6914624612740131"
      ]
     },
     "execution_count": 129,
     "metadata": {},
     "output_type": "execute_result"
    }
   ],
   "source": [
    "# for theere to be 15 minutes left, food must oinly take 45 minutes out of an hour\n",
    "# what is the likelihood that the food will be ready in 45 minutes?\n",
    "\n",
    "time_for_food.cdf(45)"
   ]
  },
  {
   "cell_type": "markdown",
   "id": "38895562",
   "metadata": {},
   "source": [
    "### Connect to the employees database and find the average salary of current employees, along with the standard deviation. For the following questions, calculate the answer based on modeling the employees salaries with a normal distribution defined by the calculated mean and standard deviation then compare this answer to the actual values present in the salaries dataset."
   ]
  },
  {
   "cell_type": "code",
   "execution_count": 5,
   "id": "f5cc4b87",
   "metadata": {},
   "outputs": [],
   "source": [
    "import env"
   ]
  },
  {
   "cell_type": "code",
   "execution_count": 8,
   "id": "4556cc12",
   "metadata": {},
   "outputs": [],
   "source": [
    "# placing the current employee salaries into the variable salaries\n",
    "salaries = pd.read_sql('SELECT * FROM salaries WHERE to_date > now()', env.get_db_url('employees'))"
   ]
  },
  {
   "cell_type": "code",
   "execution_count": 10,
   "id": "64324e65",
   "metadata": {},
   "outputs": [
    {
     "data": {
      "text/html": [
       "<div>\n",
       "<style scoped>\n",
       "    .dataframe tbody tr th:only-of-type {\n",
       "        vertical-align: middle;\n",
       "    }\n",
       "\n",
       "    .dataframe tbody tr th {\n",
       "        vertical-align: top;\n",
       "    }\n",
       "\n",
       "    .dataframe thead th {\n",
       "        text-align: right;\n",
       "    }\n",
       "</style>\n",
       "<table border=\"1\" class=\"dataframe\">\n",
       "  <thead>\n",
       "    <tr style=\"text-align: right;\">\n",
       "      <th></th>\n",
       "      <th>emp_no</th>\n",
       "      <th>salary</th>\n",
       "      <th>from_date</th>\n",
       "      <th>to_date</th>\n",
       "    </tr>\n",
       "  </thead>\n",
       "  <tbody>\n",
       "    <tr>\n",
       "      <th>0</th>\n",
       "      <td>10001</td>\n",
       "      <td>88958</td>\n",
       "      <td>2002-06-22</td>\n",
       "      <td>9999-01-01</td>\n",
       "    </tr>\n",
       "    <tr>\n",
       "      <th>1</th>\n",
       "      <td>10002</td>\n",
       "      <td>72527</td>\n",
       "      <td>2001-08-02</td>\n",
       "      <td>9999-01-01</td>\n",
       "    </tr>\n",
       "    <tr>\n",
       "      <th>2</th>\n",
       "      <td>10003</td>\n",
       "      <td>43311</td>\n",
       "      <td>2001-12-01</td>\n",
       "      <td>9999-01-01</td>\n",
       "    </tr>\n",
       "    <tr>\n",
       "      <th>3</th>\n",
       "      <td>10004</td>\n",
       "      <td>74057</td>\n",
       "      <td>2001-11-27</td>\n",
       "      <td>9999-01-01</td>\n",
       "    </tr>\n",
       "    <tr>\n",
       "      <th>4</th>\n",
       "      <td>10005</td>\n",
       "      <td>94692</td>\n",
       "      <td>2001-09-09</td>\n",
       "      <td>9999-01-01</td>\n",
       "    </tr>\n",
       "  </tbody>\n",
       "</table>\n",
       "</div>"
      ],
      "text/plain": [
       "   emp_no  salary   from_date     to_date\n",
       "0   10001   88958  2002-06-22  9999-01-01\n",
       "1   10002   72527  2001-08-02  9999-01-01\n",
       "2   10003   43311  2001-12-01  9999-01-01\n",
       "3   10004   74057  2001-11-27  9999-01-01\n",
       "4   10005   94692  2001-09-09  9999-01-01"
      ]
     },
     "execution_count": 10,
     "metadata": {},
     "output_type": "execute_result"
    }
   ],
   "source": [
    "# Inspecting \n",
    "salaries.head()"
   ]
  },
  {
   "cell_type": "code",
   "execution_count": 131,
   "id": "52bb3b62",
   "metadata": {},
   "outputs": [],
   "source": [
    "# getting the mean and std of the salaries\n",
    "μ = round(salaries['salary'].mean(), 2)\n",
    "σ = round(salaries['salary'].std(), 2)\n",
    "\n",
    "emp_sal = stats.norm(μ, σ)"
   ]
  },
  {
   "cell_type": "code",
   "execution_count": 133,
   "id": "f017c35c",
   "metadata": {},
   "outputs": [
    {
     "data": {
      "text/plain": [
       "(72012.24, 17310.0)"
      ]
     },
     "execution_count": 133,
     "metadata": {},
     "output_type": "execute_result"
    }
   ],
   "source": [
    "μ, σ"
   ]
  },
  {
   "cell_type": "markdown",
   "id": "a75eb1a7",
   "metadata": {},
   "source": [
    ">What percent of employees earn less than 60,000?"
   ]
  },
  {
   "cell_type": "code",
   "execution_count": 25,
   "id": "b076889f",
   "metadata": {},
   "outputs": [
    {
     "data": {
      "text/plain": [
       "0.24385722667952825"
      ]
     },
     "execution_count": 25,
     "metadata": {},
     "output_type": "execute_result"
    }
   ],
   "source": [
    "# using the cumulative distribution of the salaries\n",
    "emp_sal.cdf(59_999.99)"
   ]
  },
  {
   "cell_type": "code",
   "execution_count": 27,
   "id": "dcb5a977",
   "metadata": {},
   "outputs": [
    {
     "data": {
      "text/plain": [
       "0.2705727041028802"
      ]
     },
     "execution_count": 27,
     "metadata": {},
     "output_type": "execute_result"
    }
   ],
   "source": [
    "# looking into the actual data\n",
    "(salaries['salary'] < 60000).mean()"
   ]
  },
  {
   "cell_type": "markdown",
   "id": "5478db1e",
   "metadata": {},
   "source": [
    ">What percent of employees earn more than 95,000?"
   ]
  },
  {
   "cell_type": "code",
   "execution_count": 29,
   "id": "8564e7de",
   "metadata": {},
   "outputs": [
    {
     "data": {
      "text/plain": [
       "0.09208829007127312"
      ]
     },
     "execution_count": 29,
     "metadata": {},
     "output_type": "execute_result"
    }
   ],
   "source": [
    "# Using the survivial function at 95000\n",
    "emp_sal.sf(95_000)"
   ]
  },
  {
   "cell_type": "code",
   "execution_count": 30,
   "id": "cec664d7",
   "metadata": {},
   "outputs": [
    {
     "data": {
      "text/plain": [
       "0.1086272092752078"
      ]
     },
     "execution_count": 30,
     "metadata": {},
     "output_type": "execute_result"
    }
   ],
   "source": [
    "# checking the data set\n",
    "(salaries['salary'] > 95000).mean()"
   ]
  },
  {
   "cell_type": "markdown",
   "id": "ed0256d0",
   "metadata": {},
   "source": [
    ">What percent of employees earn between 65,000 and 80,000?"
   ]
  },
  {
   "cell_type": "code",
   "execution_count": 32,
   "id": "39135dde",
   "metadata": {},
   "outputs": [
    {
     "data": {
      "text/plain": [
       "0.33506048676360467"
      ]
     },
     "execution_count": 32,
     "metadata": {},
     "output_type": "execute_result"
    }
   ],
   "source": [
    "# need to subtract to find the percentage of the range\n",
    "emp_sal.cdf(80_000) - emp_sal.cdf(65_000)"
   ]
  },
  {
   "cell_type": "code",
   "execution_count": 36,
   "id": "9fb53fc2",
   "metadata": {},
   "outputs": [
    {
     "data": {
      "text/plain": [
       "0.32515700221552196"
      ]
     },
     "execution_count": 36,
     "metadata": {},
     "output_type": "execute_result"
    }
   ],
   "source": [
    "# finding the amount from the dataset\n",
    "((salaries['salary'] >= 65000) & (salaries['salary'] <= 80000)).mean()"
   ]
  },
  {
   "cell_type": "markdown",
   "id": "5b2befa3",
   "metadata": {},
   "source": [
    ">What do the top 5% of employees make?"
   ]
  },
  {
   "cell_type": "code",
   "execution_count": 40,
   "id": "a1462d8f",
   "metadata": {},
   "outputs": [
    {
     "data": {
      "text/plain": [
       "100484.65628252999"
      ]
     },
     "execution_count": 40,
     "metadata": {},
     "output_type": "execute_result"
    }
   ],
   "source": [
    "# inverse survival\n",
    "emp_sal.isf(.05)"
   ]
  },
  {
   "cell_type": "code",
   "execution_count": 57,
   "id": "e83b6e8e",
   "metadata": {},
   "outputs": [
    {
     "data": {
      "text/plain": [
       "113408.81750791271"
      ]
     },
     "execution_count": 57,
     "metadata": {},
     "output_type": "execute_result"
    }
   ],
   "source": [
    "# finding the avg of the top 5% of peoples salary\n",
    "salaries['salary'].sort_values(ascending=False).head(int(round(len(salaries) * .05, 0))).mean()"
   ]
  },
  {
   "cell_type": "markdown",
   "id": "dc6d14e4",
   "metadata": {},
   "source": [
    ">> Hint If you're looking at this exercise and wondering \"How do I get pandas to talk the database, again?\", remember that you'll need 3 things: your .gitignore, your env.py, and to use pd.read_sql. Copy over your .gitignore and env.py from your data science libraries exercises folder, and connect to the employees database like so:"
   ]
  },
  {
   "cell_type": "code",
   "execution_count": null,
   "id": "ecb2ddd9",
   "metadata": {},
   "outputs": [],
   "source": []
  }
 ],
 "metadata": {
  "kernelspec": {
   "display_name": "Python 3 (ipykernel)",
   "language": "python",
   "name": "python3"
  },
  "language_info": {
   "codemirror_mode": {
    "name": "ipython",
    "version": 3
   },
   "file_extension": ".py",
   "mimetype": "text/x-python",
   "name": "python",
   "nbconvert_exporter": "python",
   "pygments_lexer": "ipython3",
   "version": "3.9.13"
  }
 },
 "nbformat": 4,
 "nbformat_minor": 5
}
