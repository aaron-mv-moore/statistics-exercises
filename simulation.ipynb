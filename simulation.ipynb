{
 "cells": [
  {
   "cell_type": "markdown",
   "id": "76c3e425",
   "metadata": {},
   "source": [
    "## Simulation Exercises"
   ]
  },
  {
   "cell_type": "code",
   "execution_count": 21,
   "id": "5c24336b",
   "metadata": {},
   "outputs": [],
   "source": [
    "# importing data\n",
    "import numpy as np\n",
    "import pandas as pd\n",
    "\n"
   ]
  },
  {
   "cell_type": "markdown",
   "id": "be8780e0",
   "metadata": {},
   "source": [
    "#### How likely is it that you roll doubles when rolling two dice?"
   ]
  },
  {
   "cell_type": "code",
   "execution_count": 9,
   "id": "10749424",
   "metadata": {},
   "outputs": [
    {
     "data": {
      "text/plain": [
       "array([[3, 4],\n",
       "       [6, 1],\n",
       "       [4, 1],\n",
       "       ...,\n",
       "       [6, 3],\n",
       "       [6, 1],\n",
       "       [4, 5]])"
      ]
     },
     "execution_count": 9,
     "metadata": {},
     "output_type": "execute_result"
    }
   ],
   "source": [
    "# establish base dice and trials\n",
    "ndice = ncols = 2\n",
    "ntrials = nrows = 10**6\n",
    "\n",
    "# create simulated rolls, use product of rows and cols as size\n",
    "# reshape to fit the needs of the simulation\n",
    "rolls = np.random.choice([1, 2, 3, 4, 5, 6], nrows*ncols).reshape(nrows, ncols)\n",
    "rolls"
   ]
  },
  {
   "cell_type": "code",
   "execution_count": 10,
   "id": "38594faa",
   "metadata": {},
   "outputs": [
    {
     "data": {
      "text/plain": [
       "0.166841"
      ]
     },
     "execution_count": 10,
     "metadata": {},
     "output_type": "execute_result"
    }
   ],
   "source": [
    "# Success is when both values in the row equal the same\n",
    "# creating boolean for when the values of column 0 are equal to the value of col 1\n",
    "success_rate = (rolls[:,0] == rolls[:,1])\n",
    "\n",
    "\n",
    "success_rate.mean()"
   ]
  },
  {
   "cell_type": "markdown",
   "id": "77a91dbd",
   "metadata": {},
   "source": [
    "#### If you flip 8 coins, what is the probability of getting exactly 3 heads? What is the probability of getting more than 3 heads?"
   ]
  },
  {
   "cell_type": "code",
   "execution_count": 18,
   "id": "2f344bae",
   "metadata": {},
   "outputs": [
    {
     "data": {
      "text/plain": [
       "array([['tails', 'heads', 'tails', ..., 'heads', 'tails', 'heads'],\n",
       "       ['tails', 'tails', 'tails', ..., 'heads', 'tails', 'heads'],\n",
       "       ['tails', 'tails', 'heads', ..., 'tails', 'tails', 'tails'],\n",
       "       ...,\n",
       "       ['heads', 'tails', 'heads', ..., 'tails', 'heads', 'heads'],\n",
       "       ['heads', 'tails', 'tails', ..., 'heads', 'heads', 'heads'],\n",
       "       ['tails', 'tails', 'heads', ..., 'heads', 'heads', 'tails']],\n",
       "      dtype='<U5')"
      ]
     },
     "execution_count": 18,
     "metadata": {},
     "output_type": "execute_result"
    }
   ],
   "source": [
    "# establish the columns as the coiuns\n",
    "ncoins = ncols = 8\n",
    "# create a large number of trials as rows (each row = 1 round of flips)\n",
    "ntrials = nrows = 10**5\n",
    "\n",
    "# Create the simulated results with choices being heads or tails\n",
    "# the number of selected choices is the ncols times nrows\n",
    "# reshaping the choices to have the rows we want and the columns we want\n",
    "flips = np.random.choice(['heads', 'tails'], ncols * nrows).reshape(nrows, ncols)\n",
    "flips"
   ]
  },
  {
   "cell_type": "code",
   "execution_count": 19,
   "id": "891ab911",
   "metadata": {},
   "outputs": [
    {
     "data": {
      "text/plain": [
       "array([[False,  True, False, ...,  True, False,  True],\n",
       "       [False, False, False, ...,  True, False,  True],\n",
       "       [False, False,  True, ..., False, False, False],\n",
       "       ...,\n",
       "       [ True, False,  True, ..., False,  True,  True],\n",
       "       [ True, False, False, ...,  True,  True,  True],\n",
       "       [False, False,  True, ...,  True,  True, False]])"
      ]
     },
     "execution_count": 19,
     "metadata": {},
     "output_type": "execute_result"
    }
   ],
   "source": [
    "# success is getting exactly 3 heads, now lets find the probablility\n",
    "# first, get true false values for the success metric\n",
    "is_heads = flips == 'heads'\n",
    "is_heads"
   ]
  },
  {
   "cell_type": "code",
   "execution_count": 20,
   "id": "f4b8fe71",
   "metadata": {},
   "outputs": [
    {
     "data": {
      "text/plain": [
       "0.21936"
      ]
     },
     "execution_count": 20,
     "metadata": {},
     "output_type": "execute_result"
    }
   ],
   "source": [
    "# now sum the the boolean values and if the boolean value is equal to three then it is success\n",
    "success_rates = (is_heads.sum(axis=1) == 3)\n",
    "success_rates\n",
    "\n",
    "# finally, we will take the average of all the trials to find the probablility of getting exactly three heads\n",
    "success_rates.mean()"
   ]
  },
  {
   "cell_type": "code",
   "execution_count": 22,
   "id": "02bf4957",
   "metadata": {},
   "outputs": [
    {
     "data": {
      "text/plain": [
       "0.63694"
      ]
     },
     "execution_count": 22,
     "metadata": {},
     "output_type": "execute_result"
    }
   ],
   "source": [
    "# sum the boolean values and if there are more than 3 heads, then that is success\n",
    "success_rates = is_heads.sum(axis = 1) > 3\n",
    "success_rates\n",
    "\n",
    "# caluculate the mean of the boolean values to get the probablilty of more than 3 heads\n",
    "success_rates.mean()"
   ]
  },
  {
   "cell_type": "markdown",
   "id": "ba66b7cc",
   "metadata": {},
   "source": [
    "#### There are approximitely 3 web development cohorts for every 1 data science cohort at Codeup. Assuming that Codeup randomly selects an alumni to put on a billboard, what are the odds that the two billboards I drive past both have data science students on them?"
   ]
  },
  {
   "cell_type": "code",
   "execution_count": 25,
   "id": "8f538298",
   "metadata": {},
   "outputs": [
    {
     "data": {
      "text/plain": [
       "array([['web', 'web'],\n",
       "       ['web', 'web'],\n",
       "       ['web', 'web'],\n",
       "       ...,\n",
       "       ['data', 'web'],\n",
       "       ['web', 'web'],\n",
       "       ['web', 'web']], dtype='<U4')"
      ]
     },
     "execution_count": 25,
     "metadata": {},
     "output_type": "execute_result"
    }
   ],
   "source": [
    "# Setup up the simulation\n",
    "# there are two billboard that are being driven by\n",
    "nbillb = ncols = 2\n",
    "# we want many trials\n",
    "ntrials = nrows = 10**5\n",
    "\n",
    "# for this, inside the random choice the ratio of wb dev student to data science students can be realized\n",
    "cohorts = np.random.choice(['web', 'web', 'web', 'data'], ncols * nrows).reshape(nrows, ncols)\n",
    "cohorts\n",
    "\n",
    "# or\n",
    "np.random.choice(['web', 'data'], size=(nrows, ncols), p = [0.75, 0.25])"
   ]
  },
  {
   "cell_type": "code",
   "execution_count": 71,
   "id": "79712fd6",
   "metadata": {},
   "outputs": [
    {
     "data": {
      "text/plain": [
       "0.0617"
      ]
     },
     "execution_count": 71,
     "metadata": {},
     "output_type": "execute_result"
    }
   ],
   "source": [
    "# we want the probablity of successfully seeing 2 data science studetns on the billboards\n",
    "# first, we will create a variable holding the boolena values for if there is a ds student ont he billboard\n",
    "is_data = cohorts == 'data'\n",
    "is_data\n",
    "\n",
    "# now we will sum up the booleanb values, we want 2 successes\n",
    "success = (is_data.sum(axis=1) == 2)\n",
    "success\n",
    "\n",
    "# now we will take the average of this variable to find the probability of seeing ds studetns on both billboards\n",
    "success.mean()"
   ]
  },
  {
   "cell_type": "markdown",
   "id": "778029ed",
   "metadata": {},
   "source": [
    "#### Codeup students buy, on average, 3 poptart packages with a standard deviation of 1.5 a day from the snack vending machine. If on monday the machine is restocked with 17 poptart packages, how likely is it that I will be able to buy some poptarts on Friday afternoon? (Remember, if you have mean and standard deviation, use the np.random.normal) You'll need to make a judgement call on how to handle some of your values"
   ]
  },
  {
   "cell_type": "code",
   "execution_count": 20,
   "id": "7b94a3f3",
   "metadata": {},
   "outputs": [
    {
     "data": {
      "text/plain": [
       "array([[5.40901158, 2.2751747 , 1.90409839, 2.46746022, 2.85479083],\n",
       "       [2.18691709, 4.08533024, 2.8707127 , 0.55665326, 6.40859019],\n",
       "       [2.97377868, 4.18046422, 3.37803255, 2.47833624, 3.96824088],\n",
       "       ...,\n",
       "       [1.58620766, 3.45318222, 4.11732314, 3.15729421, 0.15683056],\n",
       "       [2.64939742, 3.39676139, 4.84639308, 3.92271138, 5.54583762],\n",
       "       [2.63256014, 1.27069318, 4.39140829, 3.05667641, 4.13182113]])"
      ]
     },
     "execution_count": 20,
     "metadata": {},
     "output_type": "execute_result"
    }
   ],
   "source": [
    "# setup\n",
    "# the columns are the days of class (4 for M - Th - Fridsay not included because we are purchasing on friday )\n",
    "ndays = ncols = 5\n",
    "# the trials are differnt simualtions of the 5 days in a weeks\n",
    "ntrials = nrows = 10**4\n",
    "# now establish the restock amount\n",
    "restock = 17\n",
    "# this will give us the amount of poptarts eaten on a based on the information provided in the prompt\n",
    "eaten = np.random.normal(3, 1.5, nrows * ncols).reshape(nrows, ncols)\n",
    "eaten"
   ]
  },
  {
   "cell_type": "code",
   "execution_count": 25,
   "id": "0d10edc9",
   "metadata": {},
   "outputs": [
    {
     "data": {
      "text/plain": [
       "0.7185"
      ]
     },
     "execution_count": 25,
     "metadata": {},
     "output_type": "execute_result"
    }
   ],
   "source": [
    "eaten[eaten < 0] = 0\n",
    "# Success is having poptarts friday afternoon, first we will calucalate weekly poptart consumptiom\n",
    "weekly_consumption = eaten.sum(axis=1)\n",
    "weekly_consumption\n",
    "\n",
    "# Lets find the likelihood there are leftovers after each week\n",
    "# if the difference between the retock and the weekly consumption is 1 or more, that is success\n",
    "leftovers = (restock - weekly_consumption) >= 1\n",
    "\n",
    "leftovers.mean()\n",
    "\n",
    "# \n",
    "\n",
    "(weekly_consumption < restock).mean()"
   ]
  },
  {
   "cell_type": "markdown",
   "id": "f49317e4",
   "metadata": {},
   "source": [
    "#### Compare Heights\n",
    ">Men have an average height of 178 cm and standard deviation of 8cm.\n",
    "Women have a mean of 170, sd = 6cm.\n",
    "Since you have means and standard deviations, you can use np.random.normal to generate observations.\n",
    "If a man and woman are chosen at random, what is the likelihood the woman is taller than the man?"
   ]
  },
  {
   "cell_type": "code",
   "execution_count": 36,
   "id": "fe02496f",
   "metadata": {},
   "outputs": [],
   "source": [
    "# two columns, one is mens height, the other is womens height\n",
    "nrows = 10**5\n",
    "\n",
    "# get simulated heights randomly generated based on the provided information\n",
    "man = np.random.normal(178, 8, nrows)\n",
    "woman = np.random.normal(170, 6, nrows)\n",
    "\n",
    "# now put these into a matrix that we can use, transposing it so the information if how we woul like it to be\n",
    "heights = np.matrix([man, woman]).T"
   ]
  },
  {
   "cell_type": "code",
   "execution_count": 48,
   "id": "5d5cd0e1",
   "metadata": {},
   "outputs": [
    {
     "data": {
      "text/plain": [
       "0.2136"
      ]
     },
     "execution_count": 48,
     "metadata": {},
     "output_type": "execute_result"
    }
   ],
   "source": [
    "# success in this instance is a woman being taller than a man\n",
    "is_she_taller = (heights[:,1] - heights[:,0]) > 0\n",
    "\n",
    "# now take the mean of the results to get the probalilty\n",
    "is_she_taller.mean()"
   ]
  },
  {
   "cell_type": "markdown",
   "id": "3038c4e5",
   "metadata": {},
   "source": [
    "#### When installing anaconda on a student's computer, there's a 1 in 250 chance that the download is corrupted and the installation fails. What are the odds that after having 50 students download anaconda, no one has an installation issue? 100 students?"
   ]
  },
  {
   "cell_type": "code",
   "execution_count": 57,
   "id": "7df62618",
   "metadata": {},
   "outputs": [
    {
     "data": {
      "text/plain": [
       "array([['i', 'i', 'i', ..., 'i', 'i', 'i'],\n",
       "       ['i', 'i', 'i', ..., 'i', 'i', 'i'],\n",
       "       ['i', 'i', 'i', ..., 'i', 'i', 'i'],\n",
       "       ...,\n",
       "       ['i', 'i', 'i', ..., 'i', 'i', 'i'],\n",
       "       ['i', 'i', 'i', ..., 'i', 'i', 'i'],\n",
       "       ['i', 'i', 'i', ..., 'i', 'i', 'i']], dtype='<U1')"
      ]
     },
     "execution_count": 57,
     "metadata": {},
     "output_type": "execute_result"
    }
   ],
   "source": [
    "# creating the rows and columns\n",
    "downloads = ncols = 500\n",
    "ntrials = nrows = 10 ** 5\n",
    "\n",
    "# Creating the probability of corruption in a list\n",
    "chances = list('S' * 249)\n",
    "chances.append('C')\n",
    "chances\n",
    "\n",
    "# creating the np array of the downloads\n",
    "installations = np.random.choice(['i', 'c'], size = (nrows, ncols), p = [(249/250), (1/250)])\n",
    "# np.random.choice(chances, ncols * nrows).reshape(nrows, ncols)\n",
    "installations"
   ]
  },
  {
   "cell_type": "code",
   "execution_count": 58,
   "id": "0005019d",
   "metadata": {},
   "outputs": [
    {
     "data": {
      "text/plain": [
       "0.81996"
      ]
     },
     "execution_count": 58,
     "metadata": {},
     "output_type": "execute_result"
    }
   ],
   "source": [
    "# first, what is the chance of success that 50 students are successful ith installation?\n",
    "# create boolean values for each install in the data\n",
    "first_fifty_succeed = (installations[:,:50] == 'i')\n",
    "\n",
    "# sum the boolean values for assigned in the variable along axis 1, if == 50 then they successfuly installed, if not there is a corruptio\n",
    "success = (first_fifty_succeed.sum(axis=1) == 50)\n",
    "\n",
    "# Take the mean of the new boolean values to find the lilelihood that it was correct\n",
    "success.mean()"
   ]
  },
  {
   "cell_type": "code",
   "execution_count": 59,
   "id": "34ca96cd",
   "metadata": {},
   "outputs": [
    {
     "data": {
      "text/plain": [
       "0.67197"
      ]
     },
     "execution_count": 59,
     "metadata": {},
     "output_type": "execute_result"
    }
   ],
   "source": [
    "# next is for 100\n",
    "hundred_installs = installations[:,:100] == 'i'\n",
    "hundred_installs.shape\n",
    "\n",
    "# sum them all, if the sum across the x axis equals 100, then success\n",
    "success = hundred_installs.sum(axis=1) == 100\n",
    "\n",
    "# take the mean for the likelihood\n",
    "success.mean()"
   ]
  },
  {
   "cell_type": "markdown",
   "id": "c189baa8",
   "metadata": {},
   "source": [
    ">What is the probability that we observe an installation issue within the first 150 students that download anaconda?"
   ]
  },
  {
   "cell_type": "code",
   "execution_count": 60,
   "id": "796d1944",
   "metadata": {},
   "outputs": [
    {
     "data": {
      "text/plain": [
       "0.44905"
      ]
     },
     "execution_count": 60,
     "metadata": {},
     "output_type": "execute_result"
    }
   ],
   "source": [
    "# now the likelihood that there IS an issue in 150\n",
    "onefifty_issue = installations[:, :150] == 'c'\n",
    "onefifty_issue.shape\n",
    "\n",
    "# Sum, if there is one 'C', one true, or a sum of at least one then that is success\n",
    "success = onefifty_issue.sum(axis=1) >= 1\n",
    "\n",
    "success.mean()"
   ]
  },
  {
   "cell_type": "markdown",
   "id": "92a5aa1c",
   "metadata": {},
   "source": [
    ">How likely is it that 450 students all download anaconda without an issue?"
   ]
  },
  {
   "cell_type": "code",
   "execution_count": 55,
   "id": "e186cf7a",
   "metadata": {},
   "outputs": [
    {
     "data": {
      "text/plain": [
       "0.16534"
      ]
     },
     "execution_count": 55,
     "metadata": {},
     "output_type": "execute_result"
    }
   ],
   "source": [
    "# likelihood of 450 no issues\n",
    "fourfifty_installs = installations[:, :450] == 'i'\n",
    "fourfifty_installs.shape\n",
    "\n",
    "# if the sum of all the values is equal to 450 then that is success\n",
    "success = fourfifty_installs.sum(axis=1) == 450\n",
    "\n",
    "# mean for the probabilty\n",
    "success.mean()"
   ]
  },
  {
   "cell_type": "markdown",
   "id": "3d1e4c26",
   "metadata": {},
   "source": [
    "#### There's a 70% chance on any given day that there will be at least one food truck at Travis Park. However, you haven't seen a food truck there in 3 days. How unlikely is this?"
   ]
  },
  {
   "cell_type": "code",
   "execution_count": 65,
   "id": "619c80c6",
   "metadata": {},
   "outputs": [
    {
     "data": {
      "text/plain": [
       "array([['f', 'f', 'f'],\n",
       "       ['f', 'f', 'n'],\n",
       "       ['f', 'f', 'f'],\n",
       "       ...,\n",
       "       ['f', 'f', 'f'],\n",
       "       ['n', 'f', 'f'],\n",
       "       ['f', 'n', 'n']], dtype='<U1')"
      ]
     },
     "execution_count": 65,
     "metadata": {},
     "output_type": "execute_result"
    }
   ],
   "source": [
    "#Setup\n",
    "# set up the days as columns\n",
    "days = ncols = 3\n",
    "# set up the trials\n",
    "ntrials = nrows = 10**5\n",
    "\n",
    "# create the simualted data using \n",
    "travis_food = np.random.choice(['f', 'f', 'f', 'f', 'f', 'f', 'f', 'n','n','n'], nrows*ncols).reshape(nrows, ncols)\n",
    "travis_food"
   ]
  },
  {
   "cell_type": "code",
   "execution_count": 66,
   "id": "580ddf7c",
   "metadata": {},
   "outputs": [
    {
     "data": {
      "text/plain": [
       "0.02645"
      ]
     },
     "execution_count": 66,
     "metadata": {},
     "output_type": "execute_result"
    }
   ],
   "source": [
    "# success is no food trucks or all 'n'\n",
    "no_food = travis_food == 'n'\n",
    "\n",
    "# sum all the numbers, if they are equal to 3 then that is success\n",
    "success = no_food.sum(axis=1) == 3\n",
    "\n",
    "success.mean()"
   ]
  },
  {
   "cell_type": "markdown",
   "id": "5b5ac1bd",
   "metadata": {},
   "source": [
    ">How likely is it that a food truck will show up sometime this week?"
   ]
  },
  {
   "cell_type": "code",
   "execution_count": 67,
   "id": "dfa9459f",
   "metadata": {},
   "outputs": [
    {
     "data": {
      "text/plain": [
       "(100000, 7)"
      ]
     },
     "execution_count": 67,
     "metadata": {},
     "output_type": "execute_result"
    }
   ],
   "source": [
    "# Setup for 7 days\n",
    "# set up the days as columns\n",
    "days = ncols = 7\n",
    "# set up the trials\n",
    "ntrials = nrows = 10**5\n",
    "\n",
    "# create the simualted data using \n",
    "travis_food = np.random.choice(['f', 'f', 'f', 'f', 'f', 'f', 'f', 'n','n','n'], nrows*ncols).reshape(nrows, ncols)\n",
    "travis_food.shape"
   ]
  },
  {
   "cell_type": "code",
   "execution_count": 68,
   "id": "d63f8d23",
   "metadata": {},
   "outputs": [
    {
     "data": {
      "text/plain": [
       "0.99983"
      ]
     },
     "execution_count": 68,
     "metadata": {},
     "output_type": "execute_result"
    }
   ],
   "source": [
    "# Putting all the steps t0gether here \n",
    "food_this_week = (travis_food == 'f').sum(axis=1) >= 1\n",
    "\n",
    "food_this_week.mean()"
   ]
  },
  {
   "cell_type": "markdown",
   "id": "54658f98",
   "metadata": {},
   "source": [
    "#### If 23 people are in the same room, what are the odds that two of them share a birthday? What if it's 20 people? 40?"
   ]
  },
  {
   "cell_type": "code",
   "execution_count": 2,
   "id": "935f68b2",
   "metadata": {},
   "outputs": [
    {
     "data": {
      "text/plain": [
       "0.00193"
      ]
     },
     "execution_count": 2,
     "metadata": {},
     "output_type": "execute_result"
    }
   ],
   "source": [
    "# establish the columns, the number of \n",
    "npeople = ncols = 23\n",
    "# establish trials\n",
    "ntrials = nrows = 10**5\n",
    "\n",
    "# there are 365 days in a year, with one day being a birthday, creating this\n",
    "chances = list('d' * 364)\n",
    "chances.append('B')\n",
    "chances\n",
    "\n",
    "# now to create the simualted data\n",
    "birthdays_in_room = np.random.choice(chances, nrows * ncols).reshape(nrows, ncols)\n",
    "birthdays_in_room.shape\n",
    "\n",
    "# create boolean with true for birthdays\n",
    "two_birthdays = (birthdays_in_room == 'B').sum(axis=1) == 2\n",
    "\n",
    "two_birthdays.mean()"
   ]
  },
  {
   "cell_type": "code",
   "execution_count": 107,
   "id": "a0865156",
   "metadata": {},
   "outputs": [
    {
     "data": {
      "text/plain": [
       "0.00195"
      ]
     },
     "execution_count": 107,
     "metadata": {},
     "output_type": "execute_result"
    }
   ],
   "source": [
    "birthdays = np.random.choice(['d', 'B'], size = (nrows, ncols), p = [364/365, 1/365])\n",
    "\n",
    "at_least_two = ((birthdays_in_room == 'B').sum(axis=1) > 1)\n",
    "at_least_two.mean()"
   ]
  },
  {
   "cell_type": "code",
   "execution_count": 4,
   "id": "940cd12c",
   "metadata": {},
   "outputs": [],
   "source": [
    "chances = list(range(1, 366))\n",
    "chances\n",
    "birthdays = np.random.choice(chances, size = (nrows, ncols))"
   ]
  },
  {
   "cell_type": "code",
   "execution_count": 6,
   "id": "a1a072db",
   "metadata": {},
   "outputs": [],
   "source": [
    "birthdays_df = pd.DataFrame(birthdays)"
   ]
  },
  {
   "cell_type": "code",
   "execution_count": 27,
   "id": "d66923ce",
   "metadata": {},
   "outputs": [
    {
     "data": {
      "text/plain": [
       "0.36404"
      ]
     },
     "execution_count": 27,
     "metadata": {},
     "output_type": "execute_result"
    }
   ],
   "source": [
    "(birthdays_df.nunique(axis=1) == 22).mean()"
   ]
  },
  {
   "cell_type": "code",
   "execution_count": 80,
   "id": "73c55505",
   "metadata": {},
   "outputs": [
    {
     "data": {
      "text/plain": [
       "0.00126"
      ]
     },
     "execution_count": 80,
     "metadata": {},
     "output_type": "execute_result"
    }
   ],
   "source": [
    "## 20 people\n",
    "# establish the columns, the number of \n",
    "npeople = ncols = 20\n",
    "# establish trials\n",
    "ntrials = nrows = 10**5\n",
    "\n",
    "# there are 365 days in a year, with one day being a birthday, creating this\n",
    "chances = list('d' * 364)\n",
    "chances.append('B')\n",
    "chances\n",
    "\n",
    "# now to create the simualted data\n",
    "birthdays_in_room = np.random.choice(chances, nrows * ncols).reshape(nrows, ncols)\n",
    "birthdays_in_room.shape\n",
    "\n",
    "# create boolean with true for birthdays\n",
    "two_birthdays = (birthdays_in_room == 'B').sum(axis=1) == 2\n",
    "\n",
    "two_birthdays.mean()\n"
   ]
  },
  {
   "cell_type": "code",
   "execution_count": 81,
   "id": "cf4c0f5a",
   "metadata": {},
   "outputs": [
    {
     "data": {
      "text/plain": [
       "0.00553"
      ]
     },
     "execution_count": 81,
     "metadata": {},
     "output_type": "execute_result"
    }
   ],
   "source": [
    "## 40 people \n",
    "# establish the columns, the number of \n",
    "npeople = ncols = 40\n",
    "# establish trials\n",
    "ntrials = nrows = 10**5\n",
    "\n",
    "# there are 365 days in a year, with one day being a birthday, creating this\n",
    "chances = list('d' * 364)\n",
    "chances.append('B')\n",
    "chances\n",
    "\n",
    "# now to create the simualted data\n",
    "birthdays_in_room = np.random.choice(chances, nrows * ncols).reshape(nrows, ncols)\n",
    "birthdays_in_room.shape\n",
    "\n",
    "# create boolean with true for birthdays\n",
    "two_birthdays = (birthdays_in_room == 'B').sum(axis=1) == 2\n",
    "\n",
    "two_birthdays.mean()"
   ]
  }
 ],
 "metadata": {
  "kernelspec": {
   "display_name": "Python 3 (ipykernel)",
   "language": "python",
   "name": "python3"
  },
  "language_info": {
   "codemirror_mode": {
    "name": "ipython",
    "version": 3
   },
   "file_extension": ".py",
   "mimetype": "text/x-python",
   "name": "python",
   "nbconvert_exporter": "python",
   "pygments_lexer": "ipython3",
   "version": "3.9.13"
  }
 },
 "nbformat": 4,
 "nbformat_minor": 5
}
